{
 "cells": [
  {
   "cell_type": "code",
   "execution_count": 1,
   "metadata": {},
   "outputs": [],
   "source": [
    "# !pip install gym\n",
    "# !pip install gym[atari]\n",
    "# !pip install autorom[accept-rom-license]\n",
    "# !pip install torch\n",
    "# !pip install wandb -qU"
   ]
  },
  {
   "cell_type": "code",
   "execution_count": 3,
   "metadata": {},
   "outputs": [
    {
     "name": "stderr",
     "output_type": "stream",
     "text": [
      "/home/peppe/miniconda3/envs/my_env/lib/python3.9/site-packages/tqdm/auto.py:22: TqdmWarning: IProgress not found. Please update jupyter and ipywidgets. See https://ipywidgets.readthedocs.io/en/stable/user_install.html\n",
      "  from .autonotebook import tqdm as notebook_tqdm\n",
      "A.L.E: Arcade Learning Environment (version 0.8.0+919230b)\n",
      "[Powered by Stella]\n"
     ]
    }
   ],
   "source": [
    "import gym \n",
    "import matplotlib.pyplot as plt\n",
    "import torch\n",
    "from PIL import Image\n",
    "import wandb\n",
    "# importing variables and models\n",
    "from model import *\n",
    "from variables import *\n",
    "from utils import *\n",
    "from torchvision import transforms"
   ]
  },
  {
   "cell_type": "code",
   "execution_count": 4,
   "metadata": {},
   "outputs": [],
   "source": [
    "if wb:\n",
    "    wandb.login()"
   ]
  },
  {
   "cell_type": "code",
   "execution_count": 5,
   "metadata": {},
   "outputs": [
    {
     "name": "stderr",
     "output_type": "stream",
     "text": [
      "/home/peppe/miniconda3/envs/my_env/lib/python3.9/site-packages/torch/nn/_reduction.py:42: UserWarning: size_average and reduce args will be deprecated, please use reduction='mean' instead.\n",
      "  warnings.warn(warning.format(ret))\n"
     ]
    }
   ],
   "source": [
    "load = True # When training this is false.\n",
    "# \n",
    "#\n",
    "\n",
    "seed_list = [30, 90, 60]\n",
    "agent = Policy(model_name = 'r_only_extrinsic_agent.pt', ext = True, intr = False, load = load)\n",
    "\n",
    "# agent.trainer(training_episodes)\n",
    "# maximum = 0\n",
    "# for i in range(1):\n",
    "#     agent = Policy(model_name = 'r_only_intrinsic_agent.pt', ext = False, intr = True, seed = seed_list[i], maximum = maximum, load = load)\n",
    "#     agent.trainer(n_training_episodes=training_episodes, exp_name= 'new_r_agent_only_intrinsic_reward_test_{}'.format(i+1) ) # only extrinsic: 0, only intrinsic: 1, extrinsic + intrinsic: 2\n",
    "#     maximum = agent.maximum\n",
    "# maximum = 0\n",
    "# for i in range(1):\n",
    "#     agent = Policy(model_name = 'r_extrinsic_intrinsic_agent.pt', ext = True, intr = True, seed = seed_list[i], maximum = maximum, load = load)\n",
    "#     agent.trainer(n_training_episodes=training_episodes, exp_name= 'new_r_agent_extrinsic_intrinsic_reward_test_{}'.format(i+1) ) # only extrinsic: 0, only intrinsic: 1, extrinsic + intrinsic: 2\n",
    "#     maximum = agent.maximum\n",
    "# maximum = 0\n",
    "# for i in range(1):\n",
    "#     agent = Policy(model_name = 'r_only_extrinsic_agent.pt', ext = True, intr = False, seed = seed_list[i], maximum = maximum, load = load)\n",
    "#     agent.trainer(n_training_episodes=training_episodes, exp_name= 'new_r_agent_only_extrinsic_reward_test_{}'.format(i+1) ) # only extrinsic: 0, only intrinsic: 1, extrinsic + intrinsic: 2\n",
    "#     maximum = agent.maximum"
   ]
  },
  {
   "cell_type": "code",
   "execution_count": 6,
   "metadata": {},
   "outputs": [
    {
     "name": "stderr",
     "output_type": "stream",
     "text": [
      "/home/peppe/miniconda3/envs/my_env/lib/python3.9/site-packages/gym/utils/passive_env_checker.py:289: UserWarning: \u001b[33mWARN: No render fps was declared in the environment (env.metadata['render_fps'] is None or not defined), rendering may occur at inconsistent fps.\u001b[0m\n",
      "  logger.warn(\n"
     ]
    },
    {
     "data": {
      "text/plain": [
       "998.0"
      ]
     },
     "execution_count": 6,
     "metadata": {},
     "output_type": "execute_result"
    }
   ],
   "source": [
    "agent.load()\n",
    "evaluate_agent(agent, n_eval_episodes = 5, render = True)  # Intrinsic: 945 mean, Extrinsic: 1386"
   ]
  },
  {
   "attachments": {},
   "cell_type": "markdown",
   "metadata": {},
   "source": [
    "## Set-up the game"
   ]
  },
  {
   "cell_type": "code",
   "execution_count": 9,
   "metadata": {},
   "outputs": [],
   "source": [
    "phoenix = \"ALE/Phoenix-v5\"\n",
    "space_invaders = \"ALE/SpaceInvaders-v5\"\n",
    "assault = \"ALE/Assault-v5\"\n",
    "\n",
    "\n",
    "\n",
    "game = env_id = phoenix\n",
    "\n",
    "env = gym.make(env_id, render_mode = 'human')\n"
   ]
  },
  {
   "attachments": {},
   "cell_type": "markdown",
   "metadata": {},
   "source": [
    "## Show some steps of the chosen game"
   ]
  },
  {
   "cell_type": "code",
   "execution_count": 61,
   "metadata": {},
   "outputs": [
    {
     "name": "stdout",
     "output_type": "stream",
     "text": [
      "970.0\n"
     ]
    }
   ],
   "source": [
    "env.reset()\n",
    "rewards_list = []\n",
    "for episode in range(1):\n",
    "        total_reward = 0\n",
    "        done = False\n",
    "        s, _ = env.reset()\n",
    "        rew_list = 0\n",
    "        while not done:\n",
    "            \n",
    "            action = env.action_space.sample()\n",
    "            s, reward, done, truncated, info = env.step(action)\n",
    "   \n",
    "            # env.render()\n",
    "            rew_list+=reward\n",
    "        rewards_list.append(rew_list)\n",
    "print(sum(rewards_list)/len(rewards_list))\n"
   ]
  },
  {
   "cell_type": "code",
   "execution_count": null,
   "metadata": {},
   "outputs": [],
   "source": [
    "# observation = env.reset()\n",
    "\n",
    "# for i in range(25):\n",
    "  \n",
    "#   if i > 20:\n",
    "#     print(observation.shape)\n",
    "#     plt.imshow(observation[10:187,:,:])#    phoenix: observation[17:179,:,:]), space_invaders: observation[20:195,:,:], assault: observation[10:187,:,:]\n",
    "#     plt.show()\n",
    "\n",
    "#   observation, _, _, _, _ = env.step(1)"
   ]
  },
  {
   "attachments": {},
   "cell_type": "markdown",
   "metadata": {},
   "source": [
    "### Display the result of the image transformation."
   ]
  },
  {
   "cell_type": "code",
   "execution_count": 8,
   "metadata": {},
   "outputs": [],
   "source": [
    "phoenix_game = np.load('./images/phoenix.npy')\n",
    "space_invaders_game = np.load('./images/space_invaders.npy')\n",
    "assault_game = np.load('./images/assault.npy')"
   ]
  },
  {
   "cell_type": "code",
   "execution_count": 9,
   "metadata": {},
   "outputs": [
    {
     "data": {
      "image/png": "[encoded data removed]",
      "text/plain": [
       "<Figure size 432x288 with 1 Axes>"
      ]
     },
     "metadata": {
      "needs_background": "light"
     },
     "output_type": "display_data"
    },
    {
     "data": {
      "image/png": "[encoded data removed]",
      "text/plain": [
       "<Figure size 432x288 with 1 Axes>"
      ]
     },
     "metadata": {
      "needs_background": "light"
     },
     "output_type": "display_data"
    },
    {
     "data": {
      "image/png": "[encoded data removed]",
      "text/plain": [
       "<Figure size 432x288 with 1 Axes>"
      ]
     },
     "metadata": {
      "needs_background": "light"
     },
     "output_type": "display_data"
    }
   ],
   "source": [
    "import time\n",
    "def plot_nparray_with_torch_transform(np_array):\n",
    "    ''' This function takes as input a numpy array, it applies all the desired transformation with torchvision.transforms, and then it display the new representation \n",
    "        INPUT: np_array: It's a numpy array,\n",
    "        OUTPUT: ----        '''\n",
    "    observation_new = transform(Image.fromarray(np_array))\n",
    "    observation_new = np.array(observation_new)/255\n",
    "    plt.imshow((observation_new), cmap = 'gray')\n",
    "    plt.show()\n",
    "\n",
    "plot_nparray_with_torch_transform(phoenix_game)\n",
    "time.sleep(1)\n",
    "plot_nparray_with_torch_transform(space_invaders_game)\n",
    "time.sleep(1)\n",
    "plot_nparray_with_torch_transform(assault_game)\n"
   ]
  }
 ],
 "metadata": {
  "kernelspec": {
   "display_name": "my_env",
   "language": "python",
   "name": "python3"
  },
  "language_info": {
   "codemirror_mode": {
    "name": "ipython",
    "version": 3
   },
   "file_extension": ".py",
   "mimetype": "text/x-python",
   "name": "python",
   "nbconvert_exporter": "python",
   "pygments_lexer": "ipython3",
   "version": "3.9.15"
  },
  "orig_nbformat": 4,
  "vscode": {
   "interpreter": {
    "hash": "fb5445bfbf8972ec5f7b2dac98ed41742e280e56e41d5d2d5df357ace3791bc0"
   }
  }
 },
 "nbformat": 4,
 "nbformat_minor": 2
}
